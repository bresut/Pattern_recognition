{
 "cells": [
  {
   "cell_type": "code",
   "execution_count": 1,
   "id": "c2d50a0a",
   "metadata": {},
   "outputs": [
    {
     "name": "stdout",
     "output_type": "stream",
     "text": [
      "[[-0.1]\n",
      " [ 0.4]\n",
      " [ 1.9]]\n",
      "[[3.]\n",
      " [2.]\n",
      " [6.]]\n"
     ]
    }
   ],
   "source": [
    "import numpy as np\n",
    "a = np.array([[1, 3, 1],[3, 1, 1],[1, 1, 3]])\n",
    "b = np.array([[3],[2],[6]])\n",
    "x = np.linalg.solve(a, b)#算解\n",
    "print (x)\n",
    "y = np.matmul(a, x)#用內積驗算，看結果是不是跟b相同\n",
    "print (y)"
   ]
  },
  {
   "cell_type": "code",
   "execution_count": 2,
   "id": "5c0733be",
   "metadata": {},
   "outputs": [
    {
     "name": "stdout",
     "output_type": "stream",
     "text": [
      "[[ 0  1  2  3  4]\n",
      " [ 5  6  7  8  9]\n",
      " [10 11 12 13 14]]\n",
      "[ 0  2  3  4  5  6  7  8  9 10 11 12 13 14]\n",
      "[[ 0  1  2  3  4]\n",
      " [10 11 12 13 14]]\n",
      "[[ 1  2  3  4]\n",
      " [ 6  7  8  9]\n",
      " [11 12 13 14]]\n"
     ]
    }
   ],
   "source": [
    "#delete用法\n",
    "A = np.arange(15).reshape((3,5))\n",
    "B = np.delete(A, 1)\n",
    "C = np.delete(A, 1, axis=0)\n",
    "D = np.delete(A, 0, axis=1)\n",
    "print(A)#3X5矩陣\n",
    "\n",
    "print(B)#堆到第一個後刪除[1]\n",
    "\n",
    "print(C)#axis=0按行操作\n",
    "\n",
    "print(D)#axis=1按列操作"
   ]
  },
  {
   "cell_type": "code",
   "execution_count": 3,
   "id": "a9cbdcde",
   "metadata": {},
   "outputs": [
    {
     "name": "stdout",
     "output_type": "stream",
     "text": [
      "A= \n",
      "[[ 0  1  2  3  4]\n",
      " [ 5  6  7  8  9]\n",
      " [10 11 12 13 14]]\n",
      "\n",
      "i,j= 00, Bij= \n",
      "[[ 6  7  8  9]\n",
      " [11 12 13 14]]\n",
      "\n",
      "i,j= 00, Bij= \n",
      "[[12 13 14]]\n",
      ".... Dij= 12\n",
      "\n",
      "i,j= 01, Bij= \n",
      "[[11 13 14]]\n",
      ".... Dij= 11\n",
      ".... Dij= -5\n",
      "\n",
      "i,j= 01, Bij= \n",
      "[[ 5  7  8  9]\n",
      " [10 12 13 14]]\n",
      "\n",
      "i,j= 00, Bij= \n",
      "[[12 13 14]]\n",
      ".... Dij= 12\n",
      "\n",
      "i,j= 01, Bij= \n",
      "[[10 13 14]]\n",
      ".... Dij= 10\n",
      ".... Dij= -10\n",
      "\n",
      "i,j= 02, Bij= \n",
      "[[ 5  6  8  9]\n",
      " [10 11 13 14]]\n",
      "\n",
      "i,j= 00, Bij= \n",
      "[[11 13 14]]\n",
      ".... Dij= 11\n",
      "\n",
      "i,j= 01, Bij= \n",
      "[[10 13 14]]\n",
      ".... Dij= 10\n",
      ".... Dij= -5\n",
      "\n",
      "det= 0\n"
     ]
    }
   ],
   "source": [
    "#DET\n",
    "print(f'A= \\n{A}') \n",
    "\n",
    "def ryDet(A): \n",
    "\n",
    "    n= A.shape[0] \n",
    "    if n>1: \n",
    "        i= 0 \n",
    "\n",
    "        Bi=  np.delete(A, i, axis=0) \n",
    "\n",
    "        #print(f'\\ni= {i}, Bi= \\n{Bi}') \n",
    "\n",
    "        det= 0 \n",
    "\n",
    "        for j in range(n): \n",
    "\n",
    "            Bij= np.delete(Bi,j, axis=1) \n",
    "\n",
    "            print(f'\\ni,j= {i}{j}, Bij= \\n{Bij}')            \n",
    "\n",
    "            Dij= ryDet(Bij) #np.linalg.det(Bij) \n",
    "\n",
    "            print(f'.... Dij= {Dij}')             \n",
    "\n",
    "            Cij= A[i,j]*Dij*(-1)**(i+j) \n",
    "\n",
    "            det += Cij \n",
    "\n",
    "        #print(f'det= {det}') \n",
    "\n",
    "        return det     \n",
    "\n",
    "    elif A.shape[0]==1: \n",
    "\n",
    "        det= A[0,0] \n",
    "\n",
    "        return det \n",
    "\n",
    "    else: \n",
    "\n",
    "        return None \n",
    "\n",
    "det= ryDet(A) \n",
    "\n",
    "print(f'\\ndet= {det}')"
   ]
  },
  {
   "cell_type": "code",
   "execution_count": 4,
   "id": "ee11e5b5",
   "metadata": {},
   "outputs": [],
   "source": [
    "import os\n",
    "import sys\n",
    "import glob\n",
    "import matplotlib.pyplot as plt\n",
    "import numpy as np\n",
    "import pandas as pd\n",
    "%matplotlib inline\n",
    "%precision 4\n",
    "plt.style.use('ggplot')"
   ]
  },
  {
   "cell_type": "code",
   "execution_count": 5,
   "id": "e0ad2c67",
   "metadata": {},
   "outputs": [
    {
     "name": "stdout",
     "output_type": "stream",
     "text": [
      "[[1 3 4]\n",
      " [2 1 3]\n",
      " [4 1 2]]\n",
      "[[4. 1. 2.]\n",
      " [1. 3. 4.]\n",
      " [2. 1. 3.]]\n",
      "[[4. 1. 2.]\n",
      " [1. 3. 4.]\n",
      " [2. 1. 3.]]\n",
      "[[0. 1. 0.]\n",
      " [0. 0. 1.]\n",
      " [1. 0. 0.]]\n",
      "[[1.     0.     0.    ]\n",
      " [0.25   1.     0.    ]\n",
      " [0.5    0.1818 1.    ]]\n",
      "[[4.     1.     2.    ]\n",
      " [0.     2.75   3.5   ]\n",
      " [0.     0.     1.3636]]\n"
     ]
    }
   ],
   "source": [
    "#LU Decomposition\n",
    "import numpy as np\n",
    "import scipy.linalg as la\n",
    "np.set_printoptions(suppress=True)\n",
    "\n",
    "A = np.array([[1,3,4],[2,1,3],[4,1,2]])\n",
    "\n",
    "print(A)\n",
    "\n",
    "P, L, U = la.lu(A)\n",
    "print(np.dot(P.T, A))\n",
    "print\n",
    "print(np.dot(L, U))\n",
    "print(P)\n",
    "print(L)\n",
    "print(U)"
   ]
  },
  {
   "cell_type": "code",
   "execution_count": 6,
   "id": "21cd7266",
   "metadata": {},
   "outputs": [
    {
     "name": "stdout",
     "output_type": "stream",
     "text": [
      "[[ 0.+0.j  1.+0.j  1.+0.j]\n",
      " [ 2.+0.j  1.+0.j -0.+0.j]\n",
      " [ 3.+0.j  4.+0.j  5.+0.j]]\n",
      "[ 5.8541+0.j -0.8541+0.j  1.    +0.j]\n"
     ]
    }
   ],
   "source": [
    "#特徵向量(Eigenvector)\n",
    "A = np.array([[0,1,1],[2,1,0],[3,4,5]])\n",
    "\n",
    "u, V = la.eig(A)\n",
    "print(np.dot(V,np.dot(np.diag(u), la.inv(V))))\n",
    "print(u)"
   ]
  },
  {
   "cell_type": "code",
   "execution_count": 7,
   "id": "030fdae6",
   "metadata": {},
   "outputs": [
    {
     "name": "stdout",
     "output_type": "stream",
     "text": [
      "[[ 0  1]\n",
      " [-1  0]]\n",
      "[[ 0.+0.j  1.+0.j]\n",
      " [-1.+0.j  0.+0.j]]\n",
      "[0.+1.j 0.-1.j]\n"
     ]
    }
   ],
   "source": [
    "A = np.array([[0,1],[-1,0]])\n",
    "print(A)\n",
    "\n",
    "u, V = la.eig(A)\n",
    "print(np.dot(V,np.dot(np.diag(u), la.inv(V))))\n",
    "print(u)"
   ]
  },
  {
   "cell_type": "code",
   "execution_count": 8,
   "id": "4014e7bc",
   "metadata": {},
   "outputs": [
    {
     "name": "stdout",
     "output_type": "stream",
     "text": [
      "[ 5.8541+0.j -0.8541+0.j  1.    +0.j]\n",
      "[ 5.8541 -0.8541  1.    ]\n"
     ]
    }
   ],
   "source": [
    "# If you know the eigenvalues must be real\n",
    "# because A is a positive definite (e.g. covariance) matrix\n",
    "# use real_if_close\n",
    "\n",
    "A = np.array([[0,1,1],[2,1,0],[3,4,5]])\n",
    "u, V = la.eig(A)\n",
    "print(u)\n",
    "print (np.real_if_close(u))"
   ]
  },
  {
   "cell_type": "code",
   "execution_count": 9,
   "id": "38896623",
   "metadata": {},
   "outputs": [
    {
     "data": {
      "text/plain": [
       "array([1., 1., 1., 1.])"
      ]
     },
     "execution_count": 9,
     "metadata": {},
     "output_type": "execute_result"
    }
   ],
   "source": [
    "#Stabilty\n",
    "A = np.array([[8,6,4,1],[1,4,5,1],[8,4,1,1],[1,4,3,6]])\n",
    "b = np.array([19,11,14,14])\n",
    "la.solve(A,b)"
   ]
  },
  {
   "cell_type": "code",
   "execution_count": 10,
   "id": "9c6ba416",
   "metadata": {},
   "outputs": [
    {
     "data": {
      "text/plain": [
       "array([-2.34 ,  9.745, -4.85 , -1.34 ])"
      ]
     },
     "execution_count": 10,
     "metadata": {},
     "output_type": "execute_result"
    }
   ],
   "source": [
    "b = np.array([19.01,11.05,14.07,14.05])\n",
    "la.solve(A,b)\n",
    "#Note that the tiny perturbations in the outcome vector b cause large differences in the solution! \n",
    "#When this happens, we say that the matrix A ill-conditioned. \n",
    "#This happens when a matrix is ‘close’ to being singular (i.e. non-invertible)"
   ]
  },
  {
   "cell_type": "code",
   "execution_count": 11,
   "id": "f1a2ef21",
   "metadata": {},
   "outputs": [
    {
     "name": "stdout",
     "output_type": "stream",
     "text": [
      "[15.5457  6.9002  3.8363  0.0049]\n",
      "3198.6725811991305\n"
     ]
    }
   ],
   "source": [
    "#Condition Number\n",
    "\n",
    "U, s, V = np.linalg.svd(A)\n",
    "print(s)\n",
    "print(max(s)/min(s))"
   ]
  },
  {
   "cell_type": "code",
   "execution_count": 12,
   "id": "44abac2f",
   "metadata": {},
   "outputs": [
    {
     "name": "stdout",
     "output_type": "stream",
     "text": [
      "[[ 1  2  3]\n",
      " [ 2 -4  6]\n",
      " [ 3 -9 -3]]\n",
      "[[ 3. -9. -3.]\n",
      " [ 1.  2.  3.]\n",
      " [ 2. -4.  6.]]\n",
      "[[ 3. -9. -3.]\n",
      " [ 1.  2.  3.]\n",
      " [ 2. -4.  6.]]\n",
      "[[0. 1. 0.]\n",
      " [0. 0. 1.]\n",
      " [1. 0. 0.]]\n",
      "[[1.     0.     0.    ]\n",
      " [0.3333 1.     0.    ]\n",
      " [0.6667 0.4    1.    ]]\n",
      "[[ 3.  -9.  -3. ]\n",
      " [ 0.   5.   4. ]\n",
      " [ 0.   0.   6.4]]\n"
     ]
    }
   ],
   "source": [
    "#1. Compute the LU decomposition of the following matrix by hand and using numpy\n",
    "import numpy as np\n",
    "import scipy.linalg as la\n",
    "np.set_printoptions(suppress=True)\n",
    "\n",
    "A = np.array([[1,2,3],[2,-4,6],[3,-9,-3]])\n",
    "\n",
    "print(A)\n",
    "\n",
    "P, L, U = la.lu(A)\n",
    "print(np.dot(P.T, A))\n",
    "print\n",
    "print(np.dot(L, U))\n",
    "print(P)\n",
    "print(L)\n",
    "print(U)"
   ]
  },
  {
   "cell_type": "code",
   "execution_count": 13,
   "id": "f94ccc02",
   "metadata": {},
   "outputs": [
    {
     "name": "stdout",
     "output_type": "stream",
     "text": [
      "[[35. 26.  5.]\n",
      " [26. 20.  4.]\n",
      " [ 5.  4.  1.]]\n",
      "[[1. 0. 0.]\n",
      " [3. 2. 0.]\n",
      " [5. 4. 1.]]\n",
      "[[ 1  3  5]\n",
      " [ 3 13 23]\n",
      " [ 5 23 42]]\n"
     ]
    }
   ],
   "source": [
    "#2. Compute the Cholesky decomposition of the following matrix by hand and using numpy\n",
    "A = np.array([[1,3,5],[3,13,23],[5,23,42]])\n",
    "L = np.linalg.cholesky(A)\n",
    "#U = la.cholesky(A)\n",
    "print(np.dot(L.T, L))\n",
    "\n",
    "print(L)\n",
    "print(A)\n",
    "#holesky decomposition is about twice as fast as LU decomposition (though both scale as n3)"
   ]
  },
  {
   "cell_type": "code",
   "execution_count": 14,
   "id": "9924015e",
   "metadata": {},
   "outputs": [],
   "source": [
    "#3. Write a function in Python to solve a system\n",
    "#Ax=b\n",
    "#using SVD decomposition. Your function should take A and b as input and return x.\n",
    "def svdsolver(A,b):\n",
    "    U, s, V = np.linalg.svd(A)\n",
    "    if np.prod(s) == 0:\n",
    "        print(\"Matrix is singular\")\n",
    "    else:\n",
    "        return np.dot(np.dot((V.T).dot(np.diag(s**(-1))), U.T),b)"
   ]
  },
  {
   "cell_type": "code",
   "execution_count": 15,
   "id": "6eff8abf",
   "metadata": {},
   "outputs": [
    {
     "name": "stdout",
     "output_type": "stream",
     "text": [
      "[ 5. -2.]\n",
      "[ 5. -2.]\n"
     ]
    }
   ],
   "source": [
    "A = np.array([[1,1],[1,2]])\n",
    "b = np.array([3,1])\n",
    "print(np.linalg.solve(A,b))\n",
    "print(svdsolver(A,b))"
   ]
  },
  {
   "cell_type": "code",
   "execution_count": null,
   "id": "af2730a3",
   "metadata": {},
   "outputs": [],
   "source": []
  }
 ],
 "metadata": {
  "kernelspec": {
   "display_name": "Python 3",
   "language": "python",
   "name": "python3"
  },
  "language_info": {
   "codemirror_mode": {
    "name": "ipython",
    "version": 3
   },
   "file_extension": ".py",
   "mimetype": "text/x-python",
   "name": "python",
   "nbconvert_exporter": "python",
   "pygments_lexer": "ipython3",
   "version": "3.8.8"
  }
 },
 "nbformat": 4,
 "nbformat_minor": 5
}
