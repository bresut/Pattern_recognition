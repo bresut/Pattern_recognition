{
 "cells": [
  {
   "cell_type": "code",
   "execution_count": 1,
   "source": [
    "import numpy as np\r\n",
    "a = np.array([[1, 3, 1],[3, 1, 1],[1, 1, 3]])\r\n",
    "b = np.array([[3],[2],[6]])\r\n",
    "x = np.linalg.solve(a, b)#算解\r\n",
    "print (x)\r\n",
    "y = np.matmul(a, x)#內積驗算\r\n",
    "print (y)"
   ],
   "outputs": [
    {
     "output_type": "stream",
     "name": "stdout",
     "text": [
      "[[-0.1]\n",
      " [ 0.4]\n",
      " [ 1.9]]\n",
      "[[3.]\n",
      " [2.]\n",
      " [6.]]\n"
     ]
    }
   ],
   "metadata": {}
  },
  {
   "cell_type": "code",
   "execution_count": 2,
   "source": [
    "#delete用法\r\n",
    "A = np.arange(15).reshape((3,5))\r\n",
    "B = np.delete(A, 1)\r\n",
    "C = np.delete(A, 1, axis=0)\r\n",
    "D = np.delete(A, 0, axis=1)\r\n",
    "print(A)#3X5矩陣\r\n",
    "\r\n",
    "print(B)#堆到第一個後刪除[1]\r\n",
    "\r\n",
    "print(C)#axis=0按行操作\r\n",
    "\r\n",
    "print(D)#axis=1按列操作"
   ],
   "outputs": [
    {
     "output_type": "stream",
     "name": "stdout",
     "text": [
      "[[ 0  1  2  3  4]\n",
      " [ 5  6  7  8  9]\n",
      " [10 11 12 13 14]]\n",
      "[ 0  2  3  4  5  6  7  8  9 10 11 12 13 14]\n",
      "[[ 0  1  2  3  4]\n",
      " [10 11 12 13 14]]\n",
      "[[ 1  2  3  4]\n",
      " [ 6  7  8  9]\n",
      " [11 12 13 14]]\n"
     ]
    }
   ],
   "metadata": {}
  },
  {
   "cell_type": "code",
   "execution_count": 3,
   "source": [
    "#DET\r\n",
    "print(f'A= \\n{A}') \r\n",
    "\r\n",
    "def ryDet(A): \r\n",
    "\r\n",
    "    n= A.shape[0] \r\n",
    "    if n>1: \r\n",
    "        i= 0 \r\n",
    "\r\n",
    "        Bi=  np.delete(A, i, axis=0) \r\n",
    "\r\n",
    "        #print(f'\\ni= {i}, Bi= \\n{Bi}') \r\n",
    "\r\n",
    "        det= 0 \r\n",
    "\r\n",
    "        for j in range(n): \r\n",
    "\r\n",
    "            Bij= np.delete(Bi,j, axis=1) \r\n",
    "\r\n",
    "            print(f'\\ni,j= {i}{j}, Bij= \\n{Bij}')            \r\n",
    "\r\n",
    "            Dij= ryDet(Bij) #np.linalg.det(Bij) \r\n",
    "\r\n",
    "            print(f'.... Dij= {Dij}')             \r\n",
    "\r\n",
    "            Cij= A[i,j]*Dij*(-1)**(i+j) \r\n",
    "\r\n",
    "            det += Cij \r\n",
    "\r\n",
    "        #print(f'det= {det}') \r\n",
    "\r\n",
    "        return det     \r\n",
    "\r\n",
    "    elif A.shape[0]==1: \r\n",
    "\r\n",
    "        det= A[0,0] \r\n",
    "\r\n",
    "        return det \r\n",
    "\r\n",
    "    else: \r\n",
    "\r\n",
    "        return None \r\n",
    "\r\n",
    "det= ryDet(A) \r\n",
    "\r\n",
    "print(f'\\ndet= {det}')"
   ],
   "outputs": [
    {
     "output_type": "stream",
     "name": "stdout",
     "text": [
      "A= \n",
      "[[ 0  1  2  3  4]\n",
      " [ 5  6  7  8  9]\n",
      " [10 11 12 13 14]]\n",
      "\n",
      "i,j= 00, Bij= \n",
      "[[ 6  7  8  9]\n",
      " [11 12 13 14]]\n",
      "\n",
      "i,j= 00, Bij= \n",
      "[[12 13 14]]\n",
      ".... Dij= 12\n",
      "\n",
      "i,j= 01, Bij= \n",
      "[[11 13 14]]\n",
      ".... Dij= 11\n",
      ".... Dij= -5\n",
      "\n",
      "i,j= 01, Bij= \n",
      "[[ 5  7  8  9]\n",
      " [10 12 13 14]]\n",
      "\n",
      "i,j= 00, Bij= \n",
      "[[12 13 14]]\n",
      ".... Dij= 12\n",
      "\n",
      "i,j= 01, Bij= \n",
      "[[10 13 14]]\n",
      ".... Dij= 10\n",
      ".... Dij= -10\n",
      "\n",
      "i,j= 02, Bij= \n",
      "[[ 5  6  8  9]\n",
      " [10 11 13 14]]\n",
      "\n",
      "i,j= 00, Bij= \n",
      "[[11 13 14]]\n",
      ".... Dij= 11\n",
      "\n",
      "i,j= 01, Bij= \n",
      "[[10 13 14]]\n",
      ".... Dij= 10\n",
      ".... Dij= -5\n",
      "\n",
      "det= 0\n"
     ]
    }
   ],
   "metadata": {}
  },
  {
   "cell_type": "code",
   "execution_count": 4,
   "source": [
    "import os\r\n",
    "import sys\r\n",
    "import glob\r\n",
    "import matplotlib.pyplot as plt\r\n",
    "import numpy as np\r\n",
    "import pandas as pd\r\n",
    "%matplotlib inline\r\n",
    "%precision 4\r\n",
    "plt.style.use('ggplot')"
   ],
   "outputs": [],
   "metadata": {}
  },
  {
   "cell_type": "code",
   "execution_count": 5,
   "source": [
    "#LU Decomposition\r\n",
    "import numpy as np\r\n",
    "import scipy.linalg as la\r\n",
    "np.set_printoptions(suppress=True)\r\n",
    "\r\n",
    "A = np.array([[1,3,4],[2,1,3],[4,1,2]])\r\n",
    "\r\n",
    "print(A)\r\n",
    "\r\n",
    "P, L, U = la.lu(A)\r\n",
    "print(np.dot(P.T, A))\r\n",
    "print\r\n",
    "print(np.dot(L, U))\r\n",
    "print(P)\r\n",
    "print(L)\r\n",
    "print(U)"
   ],
   "outputs": [
    {
     "output_type": "stream",
     "name": "stdout",
     "text": [
      "[[1 3 4]\n",
      " [2 1 3]\n",
      " [4 1 2]]\n",
      "[[4. 1. 2.]\n",
      " [1. 3. 4.]\n",
      " [2. 1. 3.]]\n",
      "[[4. 1. 2.]\n",
      " [1. 3. 4.]\n",
      " [2. 1. 3.]]\n",
      "[[0. 1. 0.]\n",
      " [0. 0. 1.]\n",
      " [1. 0. 0.]]\n",
      "[[1.     0.     0.    ]\n",
      " [0.25   1.     0.    ]\n",
      " [0.5    0.1818 1.    ]]\n",
      "[[4.     1.     2.    ]\n",
      " [0.     2.75   3.5   ]\n",
      " [0.     0.     1.3636]]\n"
     ]
    }
   ],
   "metadata": {}
  },
  {
   "cell_type": "code",
   "execution_count": 6,
   "source": [
    "#特徵向量(Eigenvector)\n",
    "A = np.array([[0,1,1],[2,1,0],[3,4,5]])\n",
    "\n",
    "u, V = la.eig(A)\n",
    "print(np.dot(V,np.dot(np.diag(u), la.inv(V))))\n",
    "print(u)"
   ],
   "outputs": [
    {
     "output_type": "stream",
     "name": "stdout",
     "text": [
      "[[ 0.+0.j  1.+0.j  1.+0.j]\n",
      " [ 2.+0.j  1.+0.j -0.+0.j]\n",
      " [ 3.+0.j  4.+0.j  5.+0.j]]\n",
      "[ 5.8541+0.j -0.8541+0.j  1.    +0.j]\n"
     ]
    }
   ],
   "metadata": {}
  },
  {
   "cell_type": "code",
   "execution_count": 7,
   "source": [
    "A = np.array([[0,1],[-1,0]])\n",
    "print(A)\n",
    "\n",
    "u, V = la.eig(A)\n",
    "print(np.dot(V,np.dot(np.diag(u), la.inv(V))))\n",
    "print(u)"
   ],
   "outputs": [
    {
     "output_type": "stream",
     "name": "stdout",
     "text": [
      "[[ 0  1]\n",
      " [-1  0]]\n",
      "[[ 0.+0.j  1.+0.j]\n",
      " [-1.+0.j  0.+0.j]]\n",
      "[0.+1.j 0.-1.j]\n"
     ]
    }
   ],
   "metadata": {}
  },
  {
   "cell_type": "code",
   "execution_count": 8,
   "source": [
    "# If you know the eigenvalues must be real\n",
    "# because A is a positive definite (e.g. covariance) matrix\n",
    "# use real_if_close\n",
    "\n",
    "A = np.array([[0,1,1],[2,1,0],[3,4,5]])\n",
    "u, V = la.eig(A)\n",
    "print(u)\n",
    "print (np.real_if_close(u))"
   ],
   "outputs": [
    {
     "output_type": "stream",
     "name": "stdout",
     "text": [
      "[ 5.8541+0.j -0.8541+0.j  1.    +0.j]\n",
      "[ 5.8541 -0.8541  1.    ]\n"
     ]
    }
   ],
   "metadata": {}
  },
  {
   "cell_type": "code",
   "execution_count": 9,
   "source": [
    "#Stabilty\n",
    "A = np.array([[8,6,4,1],[1,4,5,1],[8,4,1,1],[1,4,3,6]])\n",
    "b = np.array([19,11,14,14])\n",
    "la.solve(A,b)"
   ],
   "outputs": [
    {
     "output_type": "execute_result",
     "data": {
      "text/plain": [
       "array([1., 1., 1., 1.])"
      ]
     },
     "metadata": {},
     "execution_count": 9
    }
   ],
   "metadata": {}
  },
  {
   "cell_type": "code",
   "execution_count": 10,
   "source": [
    "b = np.array([19.01,11.05,14.07,14.05])\n",
    "la.solve(A,b)\n",
    "#Note that the tiny perturbations in the outcome vector b cause large differences in the solution! \n",
    "#When this happens, we say that the matrix A ill-conditioned. \n",
    "#This happens when a matrix is ‘close’ to being singular (i.e. non-invertible)"
   ],
   "outputs": [
    {
     "output_type": "execute_result",
     "data": {
      "text/plain": [
       "array([-2.34 ,  9.745, -4.85 , -1.34 ])"
      ]
     },
     "metadata": {},
     "execution_count": 10
    }
   ],
   "metadata": {}
  },
  {
   "cell_type": "code",
   "execution_count": 11,
   "source": [
    "#Condition Number\n",
    "\n",
    "U, s, V = np.linalg.svd(A)\n",
    "print(s)\n",
    "print(max(s)/min(s))"
   ],
   "outputs": [
    {
     "output_type": "stream",
     "name": "stdout",
     "text": [
      "[15.5457  6.9002  3.8363  0.0049]\n",
      "3198.6725811991305\n"
     ]
    }
   ],
   "metadata": {}
  },
  {
   "cell_type": "code",
   "execution_count": 12,
   "source": [
    "#1. Compute the LU decomposition of the following matrix by hand and using numpy\n",
    "import numpy as np\n",
    "import scipy.linalg as la\n",
    "np.set_printoptions(suppress=True)\n",
    "\n",
    "A = np.array([[1,2,3],[2,-4,6],[3,-9,-3]])\n",
    "\n",
    "print(A)\n",
    "\n",
    "P, L, U = la.lu(A)\n",
    "print(np.dot(P.T, A))\n",
    "print\n",
    "print(np.dot(L, U))\n",
    "print(P)\n",
    "print(L)\n",
    "print(U)"
   ],
   "outputs": [
    {
     "output_type": "stream",
     "name": "stdout",
     "text": [
      "[[ 1  2  3]\n",
      " [ 2 -4  6]\n",
      " [ 3 -9 -3]]\n",
      "[[ 3. -9. -3.]\n",
      " [ 1.  2.  3.]\n",
      " [ 2. -4.  6.]]\n",
      "[[ 3. -9. -3.]\n",
      " [ 1.  2.  3.]\n",
      " [ 2. -4.  6.]]\n",
      "[[0. 1. 0.]\n",
      " [0. 0. 1.]\n",
      " [1. 0. 0.]]\n",
      "[[1.     0.     0.    ]\n",
      " [0.3333 1.     0.    ]\n",
      " [0.6667 0.4    1.    ]]\n",
      "[[ 3.  -9.  -3. ]\n",
      " [ 0.   5.   4. ]\n",
      " [ 0.   0.   6.4]]\n"
     ]
    }
   ],
   "metadata": {}
  },
  {
   "cell_type": "code",
   "execution_count": 13,
   "source": [
    "#2. Compute the Cholesky decomposition of the following matrix by hand and using numpy\n",
    "A = np.array([[1,3,5],[3,13,23],[5,23,42]])\n",
    "L = np.linalg.cholesky(A)\n",
    "#U = la.cholesky(A)\n",
    "print(np.dot(L.T, L))\n",
    "\n",
    "print(L)\n",
    "print(A)\n",
    "#holesky decomposition is about twice as fast as LU decomposition (though both scale as n3)"
   ],
   "outputs": [
    {
     "output_type": "stream",
     "name": "stdout",
     "text": [
      "[[35. 26.  5.]\n",
      " [26. 20.  4.]\n",
      " [ 5.  4.  1.]]\n",
      "[[1. 0. 0.]\n",
      " [3. 2. 0.]\n",
      " [5. 4. 1.]]\n",
      "[[ 1  3  5]\n",
      " [ 3 13 23]\n",
      " [ 5 23 42]]\n"
     ]
    }
   ],
   "metadata": {}
  },
  {
   "cell_type": "code",
   "execution_count": 14,
   "source": [
    "#3. Write a function in Python to solve a system\n",
    "#Ax=b\n",
    "#using SVD decomposition. Your function should take A and b as input and return x.\n",
    "def svdsolver(A,b):\n",
    "    U, s, V = np.linalg.svd(A)\n",
    "    if np.prod(s) == 0:\n",
    "        print(\"Matrix is singular\")\n",
    "    else:\n",
    "        return np.dot(np.dot((V.T).dot(np.diag(s**(-1))), U.T),b)"
   ],
   "outputs": [],
   "metadata": {}
  },
  {
   "cell_type": "code",
   "execution_count": 15,
   "source": [
    "A = np.array([[1,1],[1,2]])\n",
    "b = np.array([3,1])\n",
    "print(np.linalg.solve(A,b))\n",
    "print(svdsolver(A,b))"
   ],
   "outputs": [
    {
     "output_type": "stream",
     "name": "stdout",
     "text": [
      "[ 5. -2.]\n",
      "[ 5. -2.]\n"
     ]
    }
   ],
   "metadata": {}
  },
  {
   "cell_type": "code",
   "execution_count": null,
   "source": [],
   "outputs": [],
   "metadata": {}
  }
 ],
 "metadata": {
  "kernelspec": {
   "display_name": "Python 3",
   "language": "python",
   "name": "python3"
  },
  "language_info": {
   "codemirror_mode": {
    "name": "ipython",
    "version": 3
   },
   "file_extension": ".py",
   "mimetype": "text/x-python",
   "name": "python",
   "nbconvert_exporter": "python",
   "pygments_lexer": "ipython3",
   "version": "3.8.8"
  }
 },
 "nbformat": 4,
 "nbformat_minor": 5
}