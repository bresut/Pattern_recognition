{
 "cells": [
  {
   "cell_type": "code",
   "execution_count": 9,
   "id": "0b2fa722",
   "metadata": {},
   "outputs": [
    {
     "name": "stdout",
     "output_type": "stream",
     "text": [
      "'hood,hʊd,,\"n. 罩；风帽；（布质）面罩；学位连领帽（表示学位种类）\\nv. 覆盖；用头巾包；使(马,鹰等)戴头罩；给…加罩\\n[网络] 胡德；兜帽；引擎盖\",,,,,0,0,,,\n",
      "\n"
     ]
    }
   ],
   "source": [
    "with open('C:/Users/s8797/大四資料庫/week05.1_python補充檔案/ecdict.csv','r',encoding = 'UTF-8-sig') as f:\n",
    "    str1 = f.readlines()\n",
    "    print(str1[1])"
   ]
  },
  {
   "cell_type": "code",
   "execution_count": null,
   "id": "696a0c2b",
   "metadata": {},
   "outputs": [],
   "source": []
  }
 ],
 "metadata": {
  "kernelspec": {
   "display_name": "Python 3",
   "language": "python",
   "name": "python3"
  },
  "language_info": {
   "codemirror_mode": {
    "name": "ipython",
    "version": 3
   },
   "file_extension": ".py",
   "mimetype": "text/x-python",
   "name": "python",
   "nbconvert_exporter": "python",
   "pygments_lexer": "ipython3",
   "version": "3.8.8"
  }
 },
 "nbformat": 4,
 "nbformat_minor": 5
}
